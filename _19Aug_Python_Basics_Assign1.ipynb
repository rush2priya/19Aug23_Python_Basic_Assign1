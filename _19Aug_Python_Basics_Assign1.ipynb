{
 "cells": [
  {
   "cell_type": "code",
   "execution_count": 3,
   "id": "33228863-d574-4ab8-9c7c-daf687488a2d",
   "metadata": {},
   "outputs": [
    {
     "name": "stdout",
     "output_type": "stream",
     "text": [
      "X=  62\n",
      "Y=  35\n"
     ]
    }
   ],
   "source": [
    "# PBV \n",
    "# Ans 1:\n",
    "\n",
    "x = 35\n",
    "y = 62\n",
    "\n",
    "\n",
    "x = x + y\n",
    "y = x - y\n",
    "x = -(y - x)\n",
    "\n",
    "print (\"X= \",x)\n",
    "print (\"Y= \",y)"
   ]
  },
  {
   "cell_type": "code",
   "execution_count": 4,
   "id": "6ddc316a-7ada-49eb-ab30-3ea298eab496",
   "metadata": {},
   "outputs": [
    {
     "name": "stdin",
     "output_type": "stream",
     "text": [
      "What's the length of the rectangle?  22\n",
      "What's the width of the rectangle?  22\n"
     ]
    },
    {
     "name": "stdout",
     "output_type": "stream",
     "text": [
      "Area of the rectangle is:  484\n"
     ]
    }
   ],
   "source": [
    "# PBV \n",
    "# Ans 2:\n",
    "\n",
    "length = input (\"What's the length of the rectangle? \")\n",
    "width = input (\"What's the width of the rectangle? \")\n",
    "\n",
    "area = int(length) * int(width)\n",
    "\n",
    "print (\"Area of the rectangle is: \", area)\n",
    "\n"
   ]
  },
  {
   "cell_type": "code",
   "execution_count": 7,
   "id": "0855a1c7-8da2-4446-b607-529a88379b43",
   "metadata": {},
   "outputs": [
    {
     "name": "stdin",
     "output_type": "stream",
     "text": [
      "What's the temperature in celsius? :  23\n"
     ]
    },
    {
     "name": "stdout",
     "output_type": "stream",
     "text": [
      "The temperature in fahrenheit is 73.4\n"
     ]
    }
   ],
   "source": [
    "# PBV \n",
    "# Ans 3:\n",
    "\n",
    "\n",
    "\n",
    "celsius = int( input(\"What's the temperature in celsius? : \"))\n",
    "fahrenheit = (celsius * 9/5) + 32\n",
    "              \n",
    "print (\"The temperature in fahrenheit is\", fahrenheit)              "
   ]
  },
  {
   "cell_type": "code",
   "execution_count": 9,
   "id": "0b121f08-04ef-4ee5-a032-28173ecd31ee",
   "metadata": {},
   "outputs": [
    {
     "name": "stdin",
     "output_type": "stream",
     "text": [
      "Enter your first name :  kjk\n"
     ]
    },
    {
     "name": "stdout",
     "output_type": "stream",
     "text": [
      "Your first name is 3  letters long\n"
     ]
    }
   ],
   "source": [
    "# SB \n",
    "# Ans 1:\n",
    "\n",
    "name = input (\"Enter your first name : \")\n",
    "name_length = len(name)\n",
    "\n",
    "print (\"Your first name is\", name_length, \" letters long\")"
   ]
  },
  {
   "cell_type": "code",
   "execution_count": 12,
   "id": "b35a8259-5e72-4d70-b538-0ed576c2be38",
   "metadata": {},
   "outputs": [
    {
     "name": "stdin",
     "output_type": "stream",
     "text": [
      "Enter a sentence:  hi hojoejo jjj\n"
     ]
    },
    {
     "name": "stdout",
     "output_type": "stream",
     "text": [
      "There are 5  vowels in this sentence\n"
     ]
    }
   ],
   "source": [
    "# SB \n",
    "# Ans 2:\n",
    "\n",
    "sentence = input(\"Enter a sentence: \").lower()\n",
    "letter_count = 0\n",
    "                 \n",
    "for letter in sentence:\n",
    "    if letter in \"aeiou\":\n",
    "        letter_count += 1\n",
    "\n",
    "print (\"There are\", letter_count,\" vowels in this sentence\")\n"
   ]
  },
  {
   "cell_type": "code",
   "execution_count": 17,
   "id": "6fefd50d-d8e7-4c63-9056-64b482db2eb8",
   "metadata": {},
   "outputs": [
    {
     "name": "stdout",
     "output_type": "stream",
     "text": [
      "Above sentence when reversed will look like this:  ecnetens siht esrever s'teL\n"
     ]
    }
   ],
   "source": [
    "# SB \n",
    "# Ans 3:\n",
    "\n",
    "text = \"Let's reverse this snetence\"\n",
    "\n",
    "reverse_text = text[::-1]\n",
    "print (\"Above sentence when reversed will look like this: \", reverse_text)"
   ]
  },
  {
   "cell_type": "code",
   "execution_count": 24,
   "id": "c2b750f4-589a-4899-9a4f-cc1fbe04dcae",
   "metadata": {},
   "outputs": [
    {
     "name": "stdin",
     "output_type": "stream",
     "text": [
      "Enter your text :  wow\n"
     ]
    },
    {
     "name": "stdout",
     "output_type": "stream",
     "text": [
      "This text is a palindrome\n"
     ]
    }
   ],
   "source": [
    "# SB \n",
    "# Ans 4:\n",
    "\n",
    "text = input(\"Enter your text : \")\n",
    "reverse_text = text[::-1]\n",
    "\n",
    "if text == reverse_text:\n",
    "    print (\"This text is a palindrome\")\n",
    "else:\n",
    "    print (\"This text is not a palindrome\")\n"
   ]
  },
  {
   "cell_type": "code",
   "execution_count": 26,
   "id": "41a3ad62-4361-43b5-9795-cf53ab63eb16",
   "metadata": {},
   "outputs": [
    {
     "name": "stdin",
     "output_type": "stream",
     "text": [
      "Enter a sentence :  Lets remove all spaces\n"
     ]
    },
    {
     "name": "stdout",
     "output_type": "stream",
     "text": [
      "Letsremoveallspaces\n"
     ]
    }
   ],
   "source": [
    "# SB \n",
    "# Ans 5:\n",
    "\n",
    "text = input(\"Enter a sentence : \")\n",
    "new_text = text.replace(\" \",\"\")\n",
    "\n",
    "print (new_text)"
   ]
  },
  {
   "cell_type": "code",
   "execution_count": null,
   "id": "5eddcfa6-0cb2-427a-aceb-063f9c637908",
   "metadata": {},
   "outputs": [],
   "source": []
  }
 ],
 "metadata": {
  "kernelspec": {
   "display_name": "Python 3 (ipykernel)",
   "language": "python",
   "name": "python3"
  },
  "language_info": {
   "codemirror_mode": {
    "name": "ipython",
    "version": 3
   },
   "file_extension": ".py",
   "mimetype": "text/x-python",
   "name": "python",
   "nbconvert_exporter": "python",
   "pygments_lexer": "ipython3",
   "version": "3.10.8"
  }
 },
 "nbformat": 4,
 "nbformat_minor": 5
}
